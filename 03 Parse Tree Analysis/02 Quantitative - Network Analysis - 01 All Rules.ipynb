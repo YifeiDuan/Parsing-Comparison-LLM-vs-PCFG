{
 "cells": [
  {
   "cell_type": "code",
   "execution_count": 1,
   "id": "403c25db",
   "metadata": {},
   "outputs": [],
   "source": [
    "import numpy as np\n",
    "import pandas as pd\n",
    "import matplotlib.pyplot as plt\n",
    "import math\n",
    "\n",
    "from nltk.tree import Tree\n",
    "import svgling\n",
    "\n",
    "import networkx as nx\n",
    "from scipy import sparse\n",
    "\n",
    "from IPython import embed"
   ]
  },
  {
   "cell_type": "code",
   "execution_count": 2,
   "id": "8cf28a64",
   "metadata": {},
   "outputs": [],
   "source": [
    "import pickle\n",
    "\n",
    "save_dir = \"D:\\\\MIT\\\\Courses\\\\2023-Spring\\\\6.8630-NLP\\\\Final Project\\\\LLM CGW\\\\All Parse Trees\""
   ]
  },
  {
   "cell_type": "code",
   "execution_count": null,
   "id": "36fa6180",
   "metadata": {},
   "outputs": [],
   "source": [
    "with open(save_dir+'\\\\Trees\\\\'+'PCFG'+'_Base_Trees.pkl', 'rb') as f:\n",
    "    trees = pickle.load(f)\n",
    "\n",
    "print(len(trees[0]))\n",
    "display(trees[0])"
   ]
  },
  {
   "cell_type": "code",
   "execution_count": 3,
   "id": "07f5e67f",
   "metadata": {},
   "outputs": [],
   "source": [
    "models = ['PCFG', 'ChatGPT', 'Google']\n",
    "\n",
    "all_trees = {}\n",
    "for model in models:\n",
    "    temp = []\n",
    "    with open(save_dir+'\\\\Trees\\\\'+model+'_Base_Trees.pkl', 'rb') as f:\n",
    "        trees = pickle.load(f)\n",
    "    temp.extend(trees)\n",
    "    with open(save_dir+'\\\\Trees\\\\'+model+'_Adversarial_Trees.pkl', 'rb') as f:\n",
    "        trees = pickle.load(f)\n",
    "    temp.extend(trees)\n",
    "    \n",
    "    all_trees[model] = temp"
   ]
  },
  {
   "cell_type": "markdown",
   "id": "642f2d66",
   "metadata": {},
   "source": [
    "### Rules-related Computation for Models"
   ]
  },
  {
   "cell_type": "code",
   "execution_count": 6,
   "id": "51eda5a1",
   "metadata": {},
   "outputs": [],
   "source": [
    "from nltk.tree.probabilistic import ProbabilisticTree\n",
    "\n",
    "def NT_rule_counts(treebank):\n",
    "    # The input is treebank, a list of NLTK trees\n",
    "    # You will return \n",
    "    #  - NTs, a list of unique nonterminals\n",
    "    #  - count_NT, a dictionary mapping NTs to their counts\n",
    "    #  - count_rule, a dictionary mapping rules (represented as nested tuples (\"S\", (\"NP\", \"VP\")) ) to their counts\n",
    "    \n",
    "    NTs = []\n",
    "    count_NT = {}\n",
    "    count_rule = {}\n",
    "    \n",
    "    # Your implementation here\n",
    "    queue = []\n",
    "    for tree in treebank:\n",
    "        queue.append(tree)\n",
    "\n",
    "        # DFS Traverse for Each Tree\n",
    "        while len(queue)>0:\n",
    "            current_node = queue.pop()\n",
    "            #print(current_node)\n",
    "        \n",
    "            lhs_label = current_node.label()\n",
    "            rhs_labels = []\n",
    "            for i in range(len(current_node)):\n",
    "                if type(current_node[i]) in [ProbabilisticTree, Tree]:\n",
    "                    rhs_labels.append(current_node[i].label())\n",
    "                else:\n",
    "                    rhs_labels.append(current_node[i])\n",
    "            children = [current_node[i] for i in range(len(current_node))]\n",
    "\n",
    "            if lhs_label not in NTs:\n",
    "                NTs.append(lhs_label)\n",
    "        \n",
    "            if lhs_label not in list(count_NT.keys()):\n",
    "                count_NT[lhs_label] = 1\n",
    "            else:\n",
    "                count_NT[lhs_label] += 1\n",
    "        \n",
    "            rule = (lhs_label, tuple(rhs_labels))\n",
    "            if rule not in list(count_rule.keys()):\n",
    "                count_rule[rule] = 1\n",
    "            else:\n",
    "                count_rule[rule] += 1\n",
    "        \n",
    "            for node in children:\n",
    "                if type(node) in [ProbabilisticTree, Tree]:\n",
    "                    queue.append(node)\n",
    "\n",
    "    \n",
    "    return NTs, count_NT, count_rule"
   ]
  },
  {
   "cell_type": "code",
   "execution_count": 7,
   "id": "f1ccd2fe",
   "metadata": {},
   "outputs": [],
   "source": [
    "NTs = {}\n",
    "count_NTs = {}\n",
    "count_rules = {}\n",
    "\n",
    "models = ['PCFG', 'ChatGPT', 'Google']\n",
    "for model in models:\n",
    "    NTs[model], count_NTs[model], count_rules[model] = NT_rule_counts(all_trees[model])"
   ]
  },
  {
   "cell_type": "markdown",
   "id": "7af4889d",
   "metadata": {},
   "source": [
    "## PCFG Overview"
   ]
  },
  {
   "cell_type": "code",
   "execution_count": 9,
   "id": "0cdecdf4",
   "metadata": {},
   "outputs": [
    {
     "name": "stdout",
     "output_type": "stream",
     "text": [
      "['S1', 'End', 'S', 'VPSi', 'VPPastSi', 'NPObj', 'NPObjNoAppo', 'NPObjSi', 'NPSi', 'NPSiPostAdj', 'Loc', 'To', 'VTPast', 'NPSubSi', 'Proper', 'VPPresSi', 'NbarSi', 'NounSi', 'PreNPSi', 'DetSi', 'BePresSi', 'PP', 'Prep', 'VTPresSi', 'Adj', 'BeSi', 'VTGer', 'SQ', 'VPBaseQuesYN', 'VIBase', 'NPSubPl', 'NPPl', 'NPPlPostAdj', 'NounPl', 'DoPl', 'VPBaseQues', 'DoSi', 'WhPronoun', 'SQClause', 'VPQues', 'NPSub', 'NPSubNoAppo', 'ProNounSubSi', 'VTBase', 'VPBase', 'WhAdverb', 'VPGerQuesYN', 'SClause', 'SBase', 'ProNounSubPl', 'BePl', 'BePresPl', 'VPPl', 'VPPresPl', 'NbarPl', 'PreNPPl', 'NumPl', 'VPPastPart', 'VIPastPart', 'HaveBase', 'MDPast', 'VPGer', 'ObjPrep', 'BeBase', 'MD', 'NPSiClause', 'NPSiClausePres', 'RelClausePron', 'VIPresSi', 'ProNounObjSi', 'NPSubSiTer', 'VTPastPart', 'BePastSi', 'BePastPart', 'PosProNoun', 'CoordConj', 'VTPl', 'VTPresPl', 'SubConj', 'Adverb', 'VIPresPl', 'NPObjPl', 'NPSubSiAppo', 'NPObjWithAppo', 'NPObjSiAppo', 'NPSubPlTer', 'VTSi', 'NPClausePast', 'VPPast', 'Pause', 'SBar', 'VIGer', 'BePastPl', 'VPPastPl', 'DetPl', 'MDPres', 'VPSpecial', 'VPSpecialBase', 'Adverbial', 'TimeAdv', 'TimeSi', 'VSpecialBase', 'NPPlClause', 'NPPlClausePres']\n"
     ]
    }
   ],
   "source": [
    "print(NTs['PCFG'])"
   ]
  },
  {
   "cell_type": "code",
   "execution_count": 10,
   "id": "60e64778",
   "metadata": {},
   "outputs": [
    {
     "data": {
      "text/plain": [
       "104"
      ]
     },
     "execution_count": 10,
     "metadata": {},
     "output_type": "execute_result"
    }
   ],
   "source": [
    "len(NTs['PCFG'])"
   ]
  },
  {
   "cell_type": "code",
   "execution_count": 11,
   "id": "b4cb9f01",
   "metadata": {},
   "outputs": [
    {
     "name": "stdout",
     "output_type": "stream",
     "text": [
      "{'S1': 116, 'End': 80, 'S': 109, 'VPSi': 77, 'VPPastSi': 6, 'NPObj': 66, 'NPObjNoAppo': 68, 'NPObjSi': 72, 'NPSi': 175, 'NPSiPostAdj': 61, 'Loc': 24, 'To': 11, 'VTPast': 5, 'NPSubSi': 99, 'Proper': 42, 'VPPresSi': 40, 'NbarSi': 100, 'NounSi': 92, 'PreNPSi': 97, 'DetSi': 96, 'BePresSi': 10, 'PP': 20, 'Prep': 20, 'VTPresSi': 17, 'Adj': 7, 'BeSi': 5, 'VTGer': 10, 'SQ': 34, 'VPBaseQuesYN': 7, 'VIBase': 22, 'NPSubPl': 37, 'NPPl': 32, 'NPPlPostAdj': 22, 'NounPl': 30, 'DoPl': 10, 'VPBaseQues': 13, 'DoSi': 27, 'WhPronoun': 13, 'SQClause': 4, 'VPQues': 4, 'NPSub': 9, 'NPSubNoAppo': 15, 'ProNounSubSi': 5, 'VTBase': 13, 'VPBase': 18, 'WhAdverb': 7, 'VPGerQuesYN': 17, 'SClause': 9, 'SBase': 4, 'ProNounSubPl': 12, 'BePl': 14, 'BePresPl': 16, 'VPPl': 27, 'VPPresPl': 11, 'NbarPl': 8, 'PreNPPl': 8, 'NumPl': 7, 'VPPastPart': 5, 'VIPastPart': 2, 'HaveBase': 6, 'MDPast': 15, 'VPGer': 8, 'ObjPrep': 7, 'BeBase': 7, 'MD': 13, 'NPSiClause': 7, 'NPSiClausePres': 6, 'RelClausePron': 9, 'VIPresSi': 19, 'ProNounObjSi': 2, 'NPSubSiTer': 4, 'VTPastPart': 4, 'BePastSi': 2, 'BePastPart': 3, 'PosProNoun': 2, 'CoordConj': 1, 'VTPl': 1, 'VTPresPl': 4, 'SubConj': 1, 'Adverb': 3, 'VIPresPl': 5, 'NPObjPl': 5, 'NPSubSiAppo': 1, 'NPObjWithAppo': 1, 'NPObjSiAppo': 1, 'NPSubPlTer': 1, 'VTSi': 3, 'NPClausePast': 1, 'VPPast': 1, 'Pause': 1, 'SBar': 1, 'VIGer': 16, 'BePastPl': 3, 'VPPastPl': 2, 'DetPl': 1, 'MDPres': 4, 'VPSpecial': 1, 'VPSpecialBase': 1, 'Adverbial': 1, 'TimeAdv': 1, 'TimeSi': 1, 'VSpecialBase': 1, 'NPPlClause': 2, 'NPPlClausePres': 2}\n"
     ]
    }
   ],
   "source": [
    "print(count_NTs['PCFG'])"
   ]
  },
  {
   "cell_type": "code",
   "execution_count": 13,
   "id": "00993355",
   "metadata": {},
   "outputs": [
    {
     "data": {
      "text/plain": [
       "332"
      ]
     },
     "execution_count": 13,
     "metadata": {},
     "output_type": "execute_result"
    }
   ],
   "source": [
    "len(count_rules['PCFG'])"
   ]
  },
  {
   "cell_type": "code",
   "execution_count": null,
   "id": "8e53af16",
   "metadata": {},
   "outputs": [],
   "source": []
  },
  {
   "cell_type": "markdown",
   "id": "8b11b680",
   "metadata": {},
   "source": [
    "## ChatGPT Overview"
   ]
  },
  {
   "cell_type": "code",
   "execution_count": 14,
   "id": "f634c3f6",
   "metadata": {},
   "outputs": [
    {
     "name": "stdout",
     "output_type": "stream",
     "text": [
      "['S', '.', 'VP', 'PP', 'NP', 'NNP', 'TO', 'VBD', 'NN', 'DT', 'VBZ', 'IN', 'JJ', 'VBG', '?', 'VB', 'NNS', 'WP', 'PRP', 'WHADVP', 'WRB', 'VBP', 'CD', 'VBN', 'MD', '!', 'SBAR', 'WHNP', 'CC', 'PRP$', 'ADVP', 'RB', ',', 'WDT', 'Aux', 'ADP', 'ADJP', 'SBARQ', 'PUNCT', 'SQ']\n"
     ]
    }
   ],
   "source": [
    "print(NTs['ChatGPT'])"
   ]
  },
  {
   "cell_type": "code",
   "execution_count": 15,
   "id": "65221bae",
   "metadata": {},
   "outputs": [
    {
     "data": {
      "text/plain": [
       "40"
      ]
     },
     "execution_count": 15,
     "metadata": {},
     "output_type": "execute_result"
    }
   ],
   "source": [
    "len(NTs['ChatGPT'])"
   ]
  },
  {
   "cell_type": "code",
   "execution_count": 16,
   "id": "a1f8058f",
   "metadata": {},
   "outputs": [
    {
     "name": "stdout",
     "output_type": "stream",
     "text": [
      "{'S': 132, '.': 57, 'VP': 175, 'PP': 35, 'NP': 183, 'NNP': 76, 'TO': 16, 'VBD': 10, 'NN': 93, 'DT': 104, 'VBZ': 75, 'IN': 27, 'JJ': 9, 'VBG': 26, '?': 29, 'VB': 56, 'NNS': 29, 'WP': 17, 'PRP': 23, 'WHADVP': 4, 'WRB': 6, 'VBP': 25, 'CD': 9, 'VBN': 10, 'MD': 19, '!': 22, 'SBAR': 15, 'WHNP': 15, 'CC': 26, 'PRP$': 3, 'ADVP': 3, 'RB': 4, ',': 3, 'WDT': 5, 'Aux': 4, 'ADP': 1, 'ADJP': 2, 'SBARQ': 1, 'PUNCT': 8, 'SQ': 1}\n"
     ]
    }
   ],
   "source": [
    "print(count_NTs['ChatGPT'])"
   ]
  },
  {
   "cell_type": "code",
   "execution_count": 17,
   "id": "1029fe94",
   "metadata": {},
   "outputs": [
    {
     "data": {
      "text/plain": [
       "348"
      ]
     },
     "execution_count": 17,
     "metadata": {},
     "output_type": "execute_result"
    }
   ],
   "source": [
    "len(count_rules['ChatGPT'])"
   ]
  },
  {
   "cell_type": "code",
   "execution_count": null,
   "id": "d2e1ff44",
   "metadata": {},
   "outputs": [],
   "source": []
  },
  {
   "cell_type": "markdown",
   "id": "880cf9c5",
   "metadata": {},
   "source": [
    "## Google Overview"
   ]
  },
  {
   "cell_type": "code",
   "execution_count": 18,
   "id": "d3c9dc89",
   "metadata": {},
   "outputs": [
    {
     "name": "stdout",
     "output_type": "stream",
     "text": [
      "['root', 'p', 'PUNCT', 'prep', 'pobj', 'NOUN', 'ADP', 'VERB', 'nsubj', 'attr', 'det', 'DET', 'dobj', 'acomp', 'ADJ', 'csubj', 'aux', 'PRON', 'ccomp', 'advmod', 'ADV', 'nn', 'num', 'NUM', 'nsubjpass', 'rcmod', 'title', 'conj', 'cc', 'CONJ', 'preconj', 'amod', 'auxpass', 'poss', 'advcl', 'mark', 'neg', 'appos', 'dep', 'vmod', 'pcomp', 'xcomp', 'PRT']\n"
     ]
    }
   ],
   "source": [
    "print(NTs['Google'])"
   ]
  },
  {
   "cell_type": "code",
   "execution_count": 19,
   "id": "51d35aba",
   "metadata": {},
   "outputs": [
    {
     "data": {
      "text/plain": [
       "43"
      ]
     },
     "execution_count": 19,
     "metadata": {},
     "output_type": "execute_result"
    }
   ],
   "source": [
    "len(NTs['Google'])"
   ]
  },
  {
   "cell_type": "code",
   "execution_count": 20,
   "id": "996ef13f",
   "metadata": {},
   "outputs": [
    {
     "name": "stdout",
     "output_type": "stream",
     "text": [
      "{'root': 232, 'p': 120, 'PUNCT': 120, 'prep': 76, 'pobj': 61, 'NOUN': 207, 'ADP': 41, 'VERB': 220, 'nsubj': 199, 'attr': 30, 'det': 87, 'DET': 98, 'dobj': 50, 'acomp': 4, 'ADJ': 7, 'csubj': 6, 'aux': 61, 'PRON': 50, 'ccomp': 20, 'advmod': 11, 'ADV': 12, 'nn': 13, 'num': 7, 'NUM': 8, 'nsubjpass': 9, 'rcmod': 16, 'title': 4, 'conj': 31, 'cc': 17, 'CONJ': 31, 'preconj': 13, 'amod': 3, 'auxpass': 3, 'poss': 2, 'advcl': 2, 'mark': 2, 'neg': 12, 'appos': 4, 'dep': 5, 'vmod': 12, 'pcomp': 1, 'xcomp': 4, 'PRT': 2}\n"
     ]
    }
   ],
   "source": [
    "print(count_NTs['Google'])"
   ]
  },
  {
   "cell_type": "code",
   "execution_count": 21,
   "id": "e11ad982",
   "metadata": {},
   "outputs": [
    {
     "data": {
      "text/plain": [
       "320"
      ]
     },
     "execution_count": 21,
     "metadata": {},
     "output_type": "execute_result"
    }
   ],
   "source": [
    "len(count_rules['Google'])"
   ]
  },
  {
   "cell_type": "code",
   "execution_count": null,
   "id": "86421c71",
   "metadata": {},
   "outputs": [],
   "source": []
  }
 ],
 "metadata": {
  "kernelspec": {
   "display_name": "CGW_LLM",
   "language": "python",
   "name": "cgw_llm"
  },
  "language_info": {
   "codemirror_mode": {
    "name": "ipython",
    "version": 3
   },
   "file_extension": ".py",
   "mimetype": "text/x-python",
   "name": "python",
   "nbconvert_exporter": "python",
   "pygments_lexer": "ipython3",
   "version": "3.9.16"
  }
 },
 "nbformat": 4,
 "nbformat_minor": 5
}
